{
 "cells": [
  {
   "cell_type": "code",
   "execution_count": null,
   "metadata": {},
   "outputs": [],
   "source": [
    "   import pandas as pd\n",
    "\n",
    "   # Load the dataset\n",
    "   df = pd.read_csv('data/bank_data.csv')\n",
    "\n",
    "   # SQL-like analysis using pandas\n",
    "   campaign_summary = df.groupby('campaign_name').agg(\n",
    "       total_impressions=('impressions', 'sum'),\n",
    "       total_clicks=('clicks', 'sum'),\n",
    "       total_conversions=('conversions', 'sum'),\n",
    "       total_spend=('spend', 'sum')\n",
    "   ).reset_index()"
   ]
  },
  {
   "cell_type": "code",
   "execution_count": null,
   "metadata": {},
   "outputs": [],
   "source": [
    "   -- SQL Query to summarize campaign performance\n",
    "   SELECT campaign_name, SUM(impressions) AS total_impressions,\n",
    "          SUM(clicks) AS total_clicks, \n",
    "          SUM(conversions) AS total_conversions,\n",
    "          SUM(spend) AS total_spend\n",
    "   FROM campaign_data\n",
    "   GROUP BY campaign_name;"
   ]
  }
 ],
 "metadata": {
  "language_info": {
   "name": "python"
  }
 },
 "nbformat": 4,
 "nbformat_minor": 2
}
